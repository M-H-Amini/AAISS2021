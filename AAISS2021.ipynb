{
  "nbformat": 4,
  "nbformat_minor": 0,
  "metadata": {
    "colab": {
      "name": "AAISS2021.ipynb",
      "provenance": [],
      "collapsed_sections": [],
      "authorship_tag": "ABX9TyN9xR/pzq8COY3okyCayDEo",
      "include_colab_link": true
    },
    "kernelspec": {
      "name": "python3",
      "display_name": "Python 3"
    },
    "language_info": {
      "name": "python"
    },
    "accelerator": "GPU"
  },
  "cells": [
    {
      "cell_type": "markdown",
      "metadata": {
        "id": "view-in-github",
        "colab_type": "text"
      },
      "source": [
        "<a href=\"https://colab.research.google.com/github/M-H-Amini/AAISS2021/blob/main/AAISS2021.ipynb\" target=\"_parent\"><img src=\"https://colab.research.google.com/assets/colab-badge.svg\" alt=\"Open In Colab\"/></a>"
      ]
    },
    {
      "cell_type": "markdown",
      "metadata": {
        "id": "w2YOppLNS0rO"
      },
      "source": [
        "#  In The Name Of ALLAH\n",
        "#  Amirkabir Artifical Intelligence Student Summit (AAISS)\n",
        "#  Dive Into Deep Learning \n",
        "#  Mohammad Hossein Amini (mhamini@aut.ac.ir)"
      ]
    },
    {
      "cell_type": "code",
      "metadata": {
        "id": "rcH12EHsMf-D"
      },
      "source": [
        "import numpy as np\n",
        "from keras.models import Sequential\n",
        "from keras.layers import Dense\n",
        "from matplotlib import pyplot as plt"
      ],
      "execution_count": 2,
      "outputs": []
    },
    {
      "cell_type": "markdown",
      "metadata": {
        "id": "44ozjbnhTLv9"
      },
      "source": [
        "#  Single-Layer Neural Networks"
      ]
    },
    {
      "cell_type": "markdown",
      "metadata": {
        "id": "NEpcsYqjTbRN"
      },
      "source": [
        "##  Dataset"
      ]
    },
    {
      "cell_type": "code",
      "metadata": {
        "id": "wQH8ir6rTaDh"
      },
      "source": [
        "X = np.linspace(-4, 4, 20)[:, np.newaxis]\n",
        "y = 1.5 * X + 0.4 + 3 * np.random.rand(len(X), 1)"
      ],
      "execution_count": 8,
      "outputs": []
    },
    {
      "cell_type": "code",
      "metadata": {
        "colab": {
          "base_uri": "https://localhost:8080/",
          "height": 265
        },
        "id": "EL1l0tZqhuvg",
        "outputId": "647a10bf-3d68-45b7-a4d4-1f5dfd004729"
      },
      "source": [
        "def show(X, y):\n",
        "  plt.figure()\n",
        "  plt.plot(X, y, 'rx')\n",
        "  plt.show()\n",
        "\n",
        "show(X, y)"
      ],
      "execution_count": 9,
      "outputs": [
        {
          "output_type": "display_data",
          "data": {
            "image/png": "[encoded data removed]",
            "text/plain": [
              "<Figure size 432x288 with 1 Axes>"
            ]
          },
          "metadata": {
            "needs_background": "light"
          }
        }
      ]
    },
    {
      "cell_type": "markdown",
      "metadata": {
        "id": "8sqoot-mTfnS"
      },
      "source": [
        "##  Model"
      ]
    },
    {
      "cell_type": "code",
      "metadata": {
        "id": "ldbrILaLTgp_",
        "colab": {
          "base_uri": "https://localhost:8080/"
        },
        "outputId": "7185581f-c579-48b8-d305-77ab430566fb"
      },
      "source": [
        "model = Sequential()\n",
        "model.add(Dense(1, activation='linear', input_shape=(1,)))\n",
        "model.summary()"
      ],
      "execution_count": 11,
      "outputs": [
        {
          "output_type": "stream",
          "text": [
            "Model: \"sequential_1\"\n",
            "_________________________________________________________________\n",
            "Layer (type)                 Output Shape              Param #   \n",
            "=================================================================\n",
            "dense_1 (Dense)              (None, 1)                 2         \n",
            "=================================================================\n",
            "Total params: 2\n",
            "Trainable params: 2\n",
            "Non-trainable params: 0\n",
            "_________________________________________________________________\n"
          ],
          "name": "stdout"
        }
      ]
    },
    {
      "cell_type": "code",
      "metadata": {
        "id": "aDJoVFlhivKQ"
      },
      "source": [
        "model.compile(optimizer='adam', loss='mse')"
      ],
      "execution_count": 18,
      "outputs": []
    },
    {
      "cell_type": "code",
      "metadata": {
        "colab": {
          "base_uri": "https://localhost:8080/"
        },
        "id": "ALbRQUuRi3_5",
        "outputId": "101759d5-e460-4812-99c8-d52f001ef150"
      },
      "source": [
        "model.fit(X, y, batch_size=4, epochs=50)"
      ],
      "execution_count": 19,
      "outputs": [
        {
          "output_type": "stream",
          "text": [
            "Epoch 1/50\n",
            "5/5 [==============================] - 0s 3ms/step - loss: 0.9040\n",
            "Epoch 2/50\n",
            "5/5 [==============================] - 0s 3ms/step - loss: 0.9029\n",
            "Epoch 3/50\n",
            "5/5 [==============================] - 0s 3ms/step - loss: 0.9027\n",
            "Epoch 4/50\n",
            "5/5 [==============================] - 0s 3ms/step - loss: 0.9034\n",
            "Epoch 5/50\n",
            "5/5 [==============================] - 0s 3ms/step - loss: 0.9027\n",
            "Epoch 6/50\n",
            "5/5 [==============================] - 0s 3ms/step - loss: 0.9025\n",
            "Epoch 7/50\n",
            "5/5 [==============================] - 0s 3ms/step - loss: 0.9026\n",
            "Epoch 8/50\n",
            "5/5 [==============================] - 0s 3ms/step - loss: 0.9028\n",
            "Epoch 9/50\n",
            "5/5 [==============================] - 0s 3ms/step - loss: 0.9025\n",
            "Epoch 10/50\n",
            "5/5 [==============================] - 0s 3ms/step - loss: 0.9024\n",
            "Epoch 11/50\n",
            "5/5 [==============================] - 0s 3ms/step - loss: 0.9024\n",
            "Epoch 12/50\n",
            "5/5 [==============================] - 0s 3ms/step - loss: 0.9023\n",
            "Epoch 13/50\n",
            "5/5 [==============================] - 0s 3ms/step - loss: 0.9022\n",
            "Epoch 14/50\n",
            "5/5 [==============================] - 0s 3ms/step - loss: 0.9023\n",
            "Epoch 15/50\n",
            "5/5 [==============================] - 0s 3ms/step - loss: 0.9021\n",
            "Epoch 16/50\n",
            "5/5 [==============================] - 0s 3ms/step - loss: 0.9025\n",
            "Epoch 17/50\n",
            "5/5 [==============================] - 0s 4ms/step - loss: 0.9023\n",
            "Epoch 18/50\n",
            "5/5 [==============================] - 0s 4ms/step - loss: 0.9022\n",
            "Epoch 19/50\n",
            "5/5 [==============================] - 0s 3ms/step - loss: 0.9027\n",
            "Epoch 20/50\n",
            "5/5 [==============================] - 0s 3ms/step - loss: 0.9021\n",
            "Epoch 21/50\n",
            "5/5 [==============================] - 0s 4ms/step - loss: 0.9022\n",
            "Epoch 22/50\n",
            "5/5 [==============================] - 0s 3ms/step - loss: 0.9024\n",
            "Epoch 23/50\n",
            "5/5 [==============================] - 0s 3ms/step - loss: 0.9022\n",
            "Epoch 24/50\n",
            "5/5 [==============================] - 0s 3ms/step - loss: 0.9023\n",
            "Epoch 25/50\n",
            "5/5 [==============================] - 0s 3ms/step - loss: 0.9022\n",
            "Epoch 26/50\n",
            "5/5 [==============================] - 0s 3ms/step - loss: 0.9022\n",
            "Epoch 27/50\n",
            "5/5 [==============================] - 0s 3ms/step - loss: 0.9019\n",
            "Epoch 28/50\n",
            "5/5 [==============================] - 0s 3ms/step - loss: 0.9020\n",
            "Epoch 29/50\n",
            "5/5 [==============================] - 0s 3ms/step - loss: 0.9022\n",
            "Epoch 30/50\n",
            "5/5 [==============================] - 0s 4ms/step - loss: 0.9020\n",
            "Epoch 31/50\n",
            "5/5 [==============================] - 0s 4ms/step - loss: 0.9020\n",
            "Epoch 32/50\n",
            "5/5 [==============================] - 0s 4ms/step - loss: 0.9021\n",
            "Epoch 33/50\n",
            "5/5 [==============================] - 0s 3ms/step - loss: 0.9020\n",
            "Epoch 34/50\n",
            "5/5 [==============================] - 0s 5ms/step - loss: 0.9020\n",
            "Epoch 35/50\n",
            "5/5 [==============================] - 0s 4ms/step - loss: 0.9022\n",
            "Epoch 36/50\n",
            "5/5 [==============================] - 0s 5ms/step - loss: 0.9019\n",
            "Epoch 37/50\n",
            "5/5 [==============================] - 0s 3ms/step - loss: 0.9021\n",
            "Epoch 38/50\n",
            "5/5 [==============================] - 0s 4ms/step - loss: 0.9025\n",
            "Epoch 39/50\n",
            "5/5 [==============================] - 0s 4ms/step - loss: 0.9022\n",
            "Epoch 40/50\n",
            "5/5 [==============================] - 0s 3ms/step - loss: 0.9018\n",
            "Epoch 41/50\n",
            "5/5 [==============================] - 0s 3ms/step - loss: 0.9018\n",
            "Epoch 42/50\n",
            "5/5 [==============================] - 0s 4ms/step - loss: 0.9021\n",
            "Epoch 43/50\n",
            "5/5 [==============================] - 0s 4ms/step - loss: 0.9020\n",
            "Epoch 44/50\n",
            "5/5 [==============================] - 0s 3ms/step - loss: 0.9018\n",
            "Epoch 45/50\n",
            "5/5 [==============================] - 0s 4ms/step - loss: 0.9025\n",
            "Epoch 46/50\n",
            "5/5 [==============================] - 0s 4ms/step - loss: 0.9019\n",
            "Epoch 47/50\n",
            "5/5 [==============================] - 0s 4ms/step - loss: 0.9021\n",
            "Epoch 48/50\n",
            "5/5 [==============================] - 0s 3ms/step - loss: 0.9020\n",
            "Epoch 49/50\n",
            "5/5 [==============================] - 0s 3ms/step - loss: 0.9025\n",
            "Epoch 50/50\n",
            "5/5 [==============================] - 0s 3ms/step - loss: 0.9019\n"
          ],
          "name": "stdout"
        },
        {
          "output_type": "execute_result",
          "data": {
            "text/plain": [
              "<keras.callbacks.History at 0x7eff50270e50>"
            ]
          },
          "metadata": {},
          "execution_count": 19
        }
      ]
    },
    {
      "cell_type": "code",
      "metadata": {
        "colab": {
          "base_uri": "https://localhost:8080/",
          "height": 265
        },
        "id": "IC1FJuR5jSz_",
        "outputId": "4170d225-0e5e-4296-b4c2-5cee1bc90c45"
      },
      "source": [
        "output = model(X)\n",
        "plt.figure()\n",
        "plt.plot(X, y, 'rx', X, output, 'b-o')\n",
        "plt.show()"
      ],
      "execution_count": 20,
      "outputs": [
        {
          "output_type": "display_data",
          "data": {
            "image/png": "[encoded data removed]",
            "text/plain": [
              "<Figure size 432x288 with 1 Axes>"
            ]
          },
          "metadata": {
            "needs_background": "light"
          }
        }
      ]
    },
    {
      "cell_type": "markdown",
      "metadata": {
        "id": "YXk2zXINThX-"
      },
      "source": [
        "#  Multi-Layer Neural Networks"
      ]
    },
    {
      "cell_type": "markdown",
      "metadata": {
        "id": "0rJabErXTn5B"
      },
      "source": [
        "##  Dataset"
      ]
    },
    {
      "cell_type": "code",
      "metadata": {
        "id": "MzHNKea2Tp4k",
        "colab": {
          "base_uri": "https://localhost:8080/"
        },
        "outputId": "428db281-45dd-4cc5-9f0d-3b45d6704c64"
      },
      "source": [
        "X = np.linspace(-4, 4, 20)[..., np.newaxis]\n",
        "y = np.sin(X * np.pi / 8)\n",
        "print(X.shape, y.shape)"
      ],
      "execution_count": 24,
      "outputs": [
        {
          "output_type": "stream",
          "text": [
            "(20, 1) (20, 1)\n"
          ],
          "name": "stdout"
        }
      ]
    },
    {
      "cell_type": "code",
      "metadata": {
        "colab": {
          "base_uri": "https://localhost:8080/",
          "height": 265
        },
        "id": "w82cbdVPj6ce",
        "outputId": "2b563280-c1cf-4c0b-fcf5-de53ce7a0948"
      },
      "source": [
        "show(X, y)"
      ],
      "execution_count": 25,
      "outputs": [
        {
          "output_type": "display_data",
          "data": {
            "image/png": "[encoded data removed]",
            "text/plain": [
              "<Figure size 432x288 with 1 Axes>"
            ]
          },
          "metadata": {
            "needs_background": "light"
          }
        }
      ]
    },
    {
      "cell_type": "markdown",
      "metadata": {
        "id": "K0dbz2yXTquw"
      },
      "source": [
        "##  Model"
      ]
    },
    {
      "cell_type": "code",
      "metadata": {
        "id": "tLYZEXXgTmV9",
        "colab": {
          "base_uri": "https://localhost:8080/"
        },
        "outputId": "ae112fa3-54cb-4b99-f556-da979bf7bbfb"
      },
      "source": [
        "model = Sequential([Dense(5, activation='tanh', input_shape=(1,)),\n",
        "                    Dense(1)])\n",
        "model.summary()"
      ],
      "execution_count": 34,
      "outputs": [
        {
          "output_type": "stream",
          "text": [
            "Model: \"sequential_4\"\n",
            "_________________________________________________________________\n",
            "Layer (type)                 Output Shape              Param #   \n",
            "=================================================================\n",
            "dense_6 (Dense)              (None, 5)                 10        \n",
            "_________________________________________________________________\n",
            "dense_7 (Dense)              (None, 1)                 6         \n",
            "=================================================================\n",
            "Total params: 16\n",
            "Trainable params: 16\n",
            "Non-trainable params: 0\n",
            "_________________________________________________________________\n"
          ],
          "name": "stdout"
        }
      ]
    },
    {
      "cell_type": "code",
      "metadata": {
        "id": "viwGKdNBkSW5"
      },
      "source": [
        "model.compile(loss='mse', optimizer='adam')"
      ],
      "execution_count": 35,
      "outputs": []
    },
    {
      "cell_type": "code",
      "metadata": {
        "colab": {
          "base_uri": "https://localhost:8080/"
        },
        "id": "mux7vMuTkf1X",
        "outputId": "d439a741-d4b4-4357-8e75-8120bb70c0d0"
      },
      "source": [
        "model.fit(X, y, batch_size=4, epochs=100)"
      ],
      "execution_count": 40,
      "outputs": [
        {
          "output_type": "stream",
          "text": [
            "Epoch 1/100\n",
            "5/5 [==============================] - 0s 3ms/step - loss: 0.0461\n",
            "Epoch 2/100\n",
            "5/5 [==============================] - 0s 3ms/step - loss: 0.0455\n",
            "Epoch 3/100\n",
            "5/5 [==============================] - 0s 3ms/step - loss: 0.0448\n",
            "Epoch 4/100\n",
            "5/5 [==============================] - 0s 3ms/step - loss: 0.0441\n",
            "Epoch 5/100\n",
            "5/5 [==============================] - 0s 3ms/step - loss: 0.0434\n",
            "Epoch 6/100\n",
            "5/5 [==============================] - 0s 3ms/step - loss: 0.0428\n",
            "Epoch 7/100\n",
            "5/5 [==============================] - 0s 3ms/step - loss: 0.0422\n",
            "Epoch 8/100\n",
            "5/5 [==============================] - 0s 3ms/step - loss: 0.0416\n",
            "Epoch 9/100\n",
            "5/5 [==============================] - 0s 3ms/step - loss: 0.0409\n",
            "Epoch 10/100\n",
            "5/5 [==============================] - 0s 3ms/step - loss: 0.0403\n",
            "Epoch 11/100\n",
            "5/5 [==============================] - 0s 3ms/step - loss: 0.0397\n",
            "Epoch 12/100\n",
            "5/5 [==============================] - 0s 4ms/step - loss: 0.0390\n",
            "Epoch 13/100\n",
            "5/5 [==============================] - 0s 3ms/step - loss: 0.0385\n",
            "Epoch 14/100\n",
            "5/5 [==============================] - 0s 3ms/step - loss: 0.0379\n",
            "Epoch 15/100\n",
            "5/5 [==============================] - 0s 3ms/step - loss: 0.0373\n",
            "Epoch 16/100\n",
            "5/5 [==============================] - 0s 3ms/step - loss: 0.0367\n",
            "Epoch 17/100\n",
            "5/5 [==============================] - 0s 3ms/step - loss: 0.0361\n",
            "Epoch 18/100\n",
            "5/5 [==============================] - 0s 3ms/step - loss: 0.0356\n",
            "Epoch 19/100\n",
            "5/5 [==============================] - 0s 3ms/step - loss: 0.0351\n",
            "Epoch 20/100\n",
            "5/5 [==============================] - 0s 4ms/step - loss: 0.0344\n",
            "Epoch 21/100\n",
            "5/5 [==============================] - 0s 3ms/step - loss: 0.0339\n",
            "Epoch 22/100\n",
            "5/5 [==============================] - 0s 3ms/step - loss: 0.0332\n",
            "Epoch 23/100\n",
            "5/5 [==============================] - 0s 4ms/step - loss: 0.0328\n",
            "Epoch 24/100\n",
            "5/5 [==============================] - 0s 3ms/step - loss: 0.0323\n",
            "Epoch 25/100\n",
            "5/5 [==============================] - 0s 4ms/step - loss: 0.0317\n",
            "Epoch 26/100\n",
            "5/5 [==============================] - 0s 3ms/step - loss: 0.0312\n",
            "Epoch 27/100\n",
            "5/5 [==============================] - 0s 3ms/step - loss: 0.0306\n",
            "Epoch 28/100\n",
            "5/5 [==============================] - 0s 3ms/step - loss: 0.0301\n",
            "Epoch 29/100\n",
            "5/5 [==============================] - 0s 3ms/step - loss: 0.0296\n",
            "Epoch 30/100\n",
            "5/5 [==============================] - 0s 4ms/step - loss: 0.0291\n",
            "Epoch 31/100\n",
            "5/5 [==============================] - 0s 3ms/step - loss: 0.0286\n",
            "Epoch 32/100\n",
            "5/5 [==============================] - 0s 4ms/step - loss: 0.0281\n",
            "Epoch 33/100\n",
            "5/5 [==============================] - 0s 3ms/step - loss: 0.0276\n",
            "Epoch 34/100\n",
            "5/5 [==============================] - 0s 3ms/step - loss: 0.0270\n",
            "Epoch 35/100\n",
            "5/5 [==============================] - 0s 3ms/step - loss: 0.0266\n",
            "Epoch 36/100\n",
            "5/5 [==============================] - 0s 3ms/step - loss: 0.0262\n",
            "Epoch 37/100\n",
            "5/5 [==============================] - 0s 4ms/step - loss: 0.0257\n",
            "Epoch 38/100\n",
            "5/5 [==============================] - 0s 3ms/step - loss: 0.0252\n",
            "Epoch 39/100\n",
            "5/5 [==============================] - 0s 3ms/step - loss: 0.0248\n",
            "Epoch 40/100\n",
            "5/5 [==============================] - 0s 3ms/step - loss: 0.0243\n",
            "Epoch 41/100\n",
            "5/5 [==============================] - 0s 3ms/step - loss: 0.0239\n",
            "Epoch 42/100\n",
            "5/5 [==============================] - 0s 3ms/step - loss: 0.0234\n",
            "Epoch 43/100\n",
            "5/5 [==============================] - 0s 5ms/step - loss: 0.0229\n",
            "Epoch 44/100\n",
            "5/5 [==============================] - 0s 3ms/step - loss: 0.0225\n",
            "Epoch 45/100\n",
            "5/5 [==============================] - 0s 3ms/step - loss: 0.0221\n",
            "Epoch 46/100\n",
            "5/5 [==============================] - 0s 4ms/step - loss: 0.0217\n",
            "Epoch 47/100\n",
            "5/5 [==============================] - 0s 4ms/step - loss: 0.0213\n",
            "Epoch 48/100\n",
            "5/5 [==============================] - 0s 4ms/step - loss: 0.0209\n",
            "Epoch 49/100\n",
            "5/5 [==============================] - 0s 3ms/step - loss: 0.0205\n",
            "Epoch 50/100\n",
            "5/5 [==============================] - 0s 3ms/step - loss: 0.0201\n",
            "Epoch 51/100\n",
            "5/5 [==============================] - 0s 3ms/step - loss: 0.0197\n",
            "Epoch 52/100\n",
            "5/5 [==============================] - 0s 3ms/step - loss: 0.0193\n",
            "Epoch 53/100\n",
            "5/5 [==============================] - 0s 4ms/step - loss: 0.0189\n",
            "Epoch 54/100\n",
            "5/5 [==============================] - 0s 3ms/step - loss: 0.0185\n",
            "Epoch 55/100\n",
            "5/5 [==============================] - 0s 4ms/step - loss: 0.0181\n",
            "Epoch 56/100\n",
            "5/5 [==============================] - 0s 3ms/step - loss: 0.0178\n",
            "Epoch 57/100\n",
            "5/5 [==============================] - 0s 3ms/step - loss: 0.0174\n",
            "Epoch 58/100\n",
            "5/5 [==============================] - 0s 3ms/step - loss: 0.0171\n",
            "Epoch 59/100\n",
            "5/5 [==============================] - 0s 3ms/step - loss: 0.0168\n",
            "Epoch 60/100\n",
            "5/5 [==============================] - 0s 3ms/step - loss: 0.0164\n",
            "Epoch 61/100\n",
            "5/5 [==============================] - 0s 3ms/step - loss: 0.0160\n",
            "Epoch 62/100\n",
            "5/5 [==============================] - 0s 3ms/step - loss: 0.0158\n",
            "Epoch 63/100\n",
            "5/5 [==============================] - 0s 3ms/step - loss: 0.0154\n",
            "Epoch 64/100\n",
            "5/5 [==============================] - 0s 3ms/step - loss: 0.0151\n",
            "Epoch 65/100\n",
            "5/5 [==============================] - 0s 3ms/step - loss: 0.0148\n",
            "Epoch 66/100\n",
            "5/5 [==============================] - 0s 3ms/step - loss: 0.0144\n",
            "Epoch 67/100\n",
            "5/5 [==============================] - 0s 3ms/step - loss: 0.0141\n",
            "Epoch 68/100\n",
            "5/5 [==============================] - 0s 4ms/step - loss: 0.0138\n",
            "Epoch 69/100\n",
            "5/5 [==============================] - 0s 3ms/step - loss: 0.0136\n",
            "Epoch 70/100\n",
            "5/5 [==============================] - 0s 3ms/step - loss: 0.0133\n",
            "Epoch 71/100\n",
            "5/5 [==============================] - 0s 4ms/step - loss: 0.0130\n",
            "Epoch 72/100\n",
            "5/5 [==============================] - 0s 4ms/step - loss: 0.0127\n",
            "Epoch 73/100\n",
            "5/5 [==============================] - 0s 3ms/step - loss: 0.0124\n",
            "Epoch 74/100\n",
            "5/5 [==============================] - 0s 4ms/step - loss: 0.0122\n",
            "Epoch 75/100\n",
            "5/5 [==============================] - 0s 3ms/step - loss: 0.0119\n",
            "Epoch 76/100\n",
            "5/5 [==============================] - 0s 4ms/step - loss: 0.0116\n",
            "Epoch 77/100\n",
            "5/5 [==============================] - 0s 3ms/step - loss: 0.0114\n",
            "Epoch 78/100\n",
            "5/5 [==============================] - 0s 3ms/step - loss: 0.0111\n",
            "Epoch 79/100\n",
            "5/5 [==============================] - 0s 3ms/step - loss: 0.0109\n",
            "Epoch 80/100\n",
            "5/5 [==============================] - 0s 4ms/step - loss: 0.0107\n",
            "Epoch 81/100\n",
            "5/5 [==============================] - 0s 4ms/step - loss: 0.0104\n",
            "Epoch 82/100\n",
            "5/5 [==============================] - 0s 3ms/step - loss: 0.0102\n",
            "Epoch 83/100\n",
            "5/5 [==============================] - 0s 3ms/step - loss: 0.0100\n",
            "Epoch 84/100\n",
            "5/5 [==============================] - 0s 5ms/step - loss: 0.0097\n",
            "Epoch 85/100\n",
            "5/5 [==============================] - 0s 3ms/step - loss: 0.0095\n",
            "Epoch 86/100\n",
            "5/5 [==============================] - 0s 3ms/step - loss: 0.0093\n",
            "Epoch 87/100\n",
            "5/5 [==============================] - 0s 3ms/step - loss: 0.0091\n",
            "Epoch 88/100\n",
            "5/5 [==============================] - 0s 3ms/step - loss: 0.0089\n",
            "Epoch 89/100\n",
            "5/5 [==============================] - 0s 3ms/step - loss: 0.0087\n",
            "Epoch 90/100\n",
            "5/5 [==============================] - 0s 4ms/step - loss: 0.0085\n",
            "Epoch 91/100\n",
            "5/5 [==============================] - 0s 4ms/step - loss: 0.0083\n",
            "Epoch 92/100\n",
            "5/5 [==============================] - 0s 4ms/step - loss: 0.0081\n",
            "Epoch 93/100\n",
            "5/5 [==============================] - 0s 5ms/step - loss: 0.0079\n",
            "Epoch 94/100\n",
            "5/5 [==============================] - 0s 3ms/step - loss: 0.0077\n",
            "Epoch 95/100\n",
            "5/5 [==============================] - 0s 3ms/step - loss: 0.0076\n",
            "Epoch 96/100\n",
            "5/5 [==============================] - 0s 3ms/step - loss: 0.0074\n",
            "Epoch 97/100\n",
            "5/5 [==============================] - 0s 3ms/step - loss: 0.0072\n",
            "Epoch 98/100\n",
            "5/5 [==============================] - 0s 3ms/step - loss: 0.0070\n",
            "Epoch 99/100\n",
            "5/5 [==============================] - 0s 4ms/step - loss: 0.0069\n",
            "Epoch 100/100\n",
            "5/5 [==============================] - 0s 3ms/step - loss: 0.0067\n"
          ],
          "name": "stdout"
        },
        {
          "output_type": "execute_result",
          "data": {
            "text/plain": [
              "<keras.callbacks.History at 0x7eff50072f10>"
            ]
          },
          "metadata": {},
          "execution_count": 40
        }
      ]
    },
    {
      "cell_type": "code",
      "metadata": {
        "colab": {
          "base_uri": "https://localhost:8080/",
          "height": 265
        },
        "id": "ZBc7eddqko13",
        "outputId": "8ca62b62-38f0-4699-a7bd-a31df7ed8f0f"
      },
      "source": [
        "output = model.predict(X)\n",
        "plt.figure()\n",
        "plt.plot(X, y, 'rx', X, output, 'g--o')\n",
        "plt.show()"
      ],
      "execution_count": 41,
      "outputs": [
        {
          "output_type": "display_data",
          "data": {
            "image/png": "[encoded data removed]",
            "text/plain": [
              "<Figure size 432x288 with 1 Axes>"
            ]
          },
          "metadata": {
            "needs_background": "light"
          }
        }
      ]
    },
    {
      "cell_type": "markdown",
      "metadata": {
        "id": "V2YXrGwKTaPc"
      },
      "source": [
        "#  Convolutional Neural Networks\n",
        "#  Covid-19 Detection Using Chest X-Ray Images (CXR)"
      ]
    },
    {
      "cell_type": "code",
      "metadata": {
        "id": "gA5I-yCh2P0z",
        "colab": {
          "base_uri": "https://localhost:8080/"
        },
        "outputId": "f9fc6577-04a4-48dc-c21d-1860fe62fb9a"
      },
      "source": [
        "from google.colab import drive\n",
        "from keras.layers import Conv2D, MaxPool2D, Flatten\n",
        "from PIL import Image, ImageOps\n",
        "import os\n",
        "drive.mount('/content/gdrive')"
      ],
      "execution_count": 47,
      "outputs": [
        {
          "output_type": "stream",
          "text": [
            "Drive already mounted at /content/gdrive; to attempt to forcibly remount, call drive.mount(\"/content/gdrive\", force_remount=True).\n"
          ],
          "name": "stdout"
        }
      ]
    },
    {
      "cell_type": "markdown",
      "metadata": {
        "id": "JrqzMGqRTuh-"
      },
      "source": [
        "##  Dataset"
      ]
    },
    {
      "cell_type": "code",
      "metadata": {
        "colab": {
          "base_uri": "https://localhost:8080/"
        },
        "id": "ZGx4J0Q-M21H",
        "outputId": "4143b3f6-72ff-417c-a8cf-570f34dce33f"
      },
      "source": [
        "!cp /content/gdrive/My\\ Drive/covid/kaggle.json kaggle.json\n",
        "!pip install -q kaggle\n",
        "!mkdir -p ~/.kaggle\n",
        "!cp kaggle.json ~/.kaggle/\n",
        "# This permissions change avoids a warning on Kaggle tool startup.\n",
        "!chmod 600 ~/.kaggle/kaggle.json\n",
        "#!kaggle datasets list\n",
        "!kaggle datasets download -d tawsifurrahman/covid19-radiography-database"
      ],
      "execution_count": 43,
      "outputs": [
        {
          "output_type": "stream",
          "text": [
            "Downloading covid19-radiography-database.zip to /content\n",
            " 98% 729M/745M [00:22<00:00, 26.5MB/s]\n",
            "100% 745M/745M [00:22<00:00, 34.7MB/s]\n"
          ],
          "name": "stdout"
        }
      ]
    },
    {
      "cell_type": "code",
      "metadata": {
        "id": "Nap4YnGXulbp"
      },
      "source": [
        "!unzip -q covid19-radiography-database.zip -d covid"
      ],
      "execution_count": 45,
      "outputs": []
    },
    {
      "cell_type": "code",
      "metadata": {
        "id": "tTmbPiEL2WiN"
      },
      "source": [
        "covid_path = os.path.join('covid', 'COVID-19_Radiography_Dataset', 'COVID')\n",
        "normal_path = os.path.join('covid', 'COVID-19_Radiography_Dataset', 'Normal')\n",
        "covid_files = [os.path.join('covid', 'COVID-19_Radiography_Dataset', 'COVID', file) for file in os.listdir(covid_path)]\n",
        "normal_files = [os.path.join('covid', 'COVID-19_Radiography_Dataset', 'Normal', file) for file in os.listdir(normal_path)]"
      ],
      "execution_count": 48,
      "outputs": []
    },
    {
      "cell_type": "code",
      "metadata": {
        "colab": {
          "base_uri": "https://localhost:8080/"
        },
        "id": "aIDXZ3duwb5w",
        "outputId": "16c7dd3f-5671-4ed1-de8c-f7ffd9a00ba6"
      },
      "source": [
        "m = min(len(covid_files), len(normal_files))\n",
        "print(f'We want {m} samples in each class!')"
      ],
      "execution_count": 53,
      "outputs": [
        {
          "output_type": "stream",
          "text": [
            "We want 3616 samples in each class!\n"
          ],
          "name": "stdout"
        }
      ]
    },
    {
      "cell_type": "code",
      "metadata": {
        "id": "tPCcHnbxvZ87"
      },
      "source": [
        "covid_images = np.array([np.array(ImageOps.grayscale(Image.open(file).resize((224,224))))[..., np.newaxis]/255. for file in covid_files[:m]])\n",
        "normal_images = np.array([np.array(ImageOps.grayscale(Image.open(file).resize((224,224))))[..., np.newaxis]/255. for file in normal_files[:m]])"
      ],
      "execution_count": 57,
      "outputs": []
    },
    {
      "cell_type": "code",
      "metadata": {
        "id": "BXdVOiMuybnJ"
      },
      "source": [
        "covid_targets = np.ones((len(covid_images,)))\n",
        "normal_targets = np.zeros((len(normal_images,)))"
      ],
      "execution_count": 62,
      "outputs": []
    },
    {
      "cell_type": "code",
      "metadata": {
        "id": "AaQOj1UjyisR"
      },
      "source": [
        "N = 3000\n",
        "covid_train, covid_test = covid_images[:N], covid_images[N:]\n",
        "normal_train, normal_test = normal_images[:N], normal_images[N:]\n",
        "Xtrain, Xtest = np.concatenate((covid_train, normal_train)), np.concatenate((covid_test, normal_test))\n",
        "\n",
        "covid_train_target, covid_test_target = covid_targets[:N], covid_targets[N:]\n",
        "normal_train_target, normal_test_target = normal_targets[:N], normal_targets[N:]\n",
        "ytrain, ytest = np.concatenate((covid_train_target, normal_train_target)), np.concatenate((covid_test_target, normal_test_target))"
      ],
      "execution_count": 63,
      "outputs": []
    },
    {
      "cell_type": "code",
      "metadata": {
        "colab": {
          "base_uri": "https://localhost:8080/"
        },
        "id": "aSJih9L9wERM",
        "outputId": "91d56deb-f098-439d-b5fc-f722632dbfa5"
      },
      "source": [
        "print(Xtrain.shape, Xtest.shape)\n",
        "print(ytrain.shape, ytest.shape)"
      ],
      "execution_count": 64,
      "outputs": [
        {
          "output_type": "stream",
          "text": [
            "(6000, 224, 224, 1) (1232, 224, 224, 1)\n",
            "(6000,) (1232,)\n"
          ],
          "name": "stdout"
        }
      ]
    },
    {
      "cell_type": "code",
      "metadata": {
        "colab": {
          "base_uri": "https://localhost:8080/",
          "height": 248
        },
        "id": "V0tmQIZPyMSB",
        "outputId": "e604c2c7-5295-42a4-e376-c2249b1e49a4"
      },
      "source": [
        "plt.figure()\n",
        "plt.imshow(covid_images[0][:, :, 0], cmap='gray')\n",
        "plt.axis('off')\n",
        "plt.show()"
      ],
      "execution_count": 65,
      "outputs": [
        {
          "output_type": "display_data",
          "data": {
            "image/png": "[encoded data removed]",
            "text/plain": [
              "<Figure size 432x288 with 1 Axes>"
            ]
          },
          "metadata": {
            "needs_background": "light"
          }
        }
      ]
    },
    {
      "cell_type": "markdown",
      "metadata": {
        "id": "ZujDI-5jUBZq"
      },
      "source": [
        "##  Model"
      ]
    },
    {
      "cell_type": "code",
      "metadata": {
        "id": "ACwGx3zIQx_P",
        "colab": {
          "base_uri": "https://localhost:8080/"
        },
        "outputId": "a0b1b331-d835-4958-cc7f-dc20725fc039"
      },
      "source": [
        "model = Sequential()\n",
        "model.add(Conv2D(32, 3, 1, padding='same', activation='tanh', input_shape=(224,224,1)))\n",
        "model.add(MaxPool2D())\n",
        "model.add(Conv2D(64, 3, 1, padding='same', activation='tanh'))\n",
        "model.add(MaxPool2D())\n",
        "model.add(Conv2D(128, 3, 1, padding='same', activation='tanh'))\n",
        "model.add(MaxPool2D())\n",
        "model.add(Flatten())\n",
        "model.add(Dense(1, activation='sigmoid'))\n",
        "\n",
        "model.summary()"
      ],
      "execution_count": 66,
      "outputs": [
        {
          "output_type": "stream",
          "text": [
            "Model: \"sequential_5\"\n",
            "_________________________________________________________________\n",
            "Layer (type)                 Output Shape              Param #   \n",
            "=================================================================\n",
            "conv2d (Conv2D)              (None, 224, 224, 32)      320       \n",
            "_________________________________________________________________\n",
            "max_pooling2d (MaxPooling2D) (None, 112, 112, 32)      0         \n",
            "_________________________________________________________________\n",
            "conv2d_1 (Conv2D)            (None, 112, 112, 64)      18496     \n",
            "_________________________________________________________________\n",
            "max_pooling2d_1 (MaxPooling2 (None, 56, 56, 64)        0         \n",
            "_________________________________________________________________\n",
            "conv2d_2 (Conv2D)            (None, 56, 56, 128)       73856     \n",
            "_________________________________________________________________\n",
            "max_pooling2d_2 (MaxPooling2 (None, 28, 28, 128)       0         \n",
            "_________________________________________________________________\n",
            "flatten (Flatten)            (None, 100352)            0         \n",
            "_________________________________________________________________\n",
            "dense_8 (Dense)              (None, 1)                 100353    \n",
            "=================================================================\n",
            "Total params: 193,025\n",
            "Trainable params: 193,025\n",
            "Non-trainable params: 0\n",
            "_________________________________________________________________\n"
          ],
          "name": "stdout"
        }
      ]
    },
    {
      "cell_type": "code",
      "metadata": {
        "id": "yhd7DCKMz3Mr"
      },
      "source": [
        "model.compile(loss='bce', optimizer='adam', metrics=['acc'])"
      ],
      "execution_count": 69,
      "outputs": []
    },
    {
      "cell_type": "code",
      "metadata": {
        "colab": {
          "base_uri": "https://localhost:8080/"
        },
        "id": "X_JT69-D0CCX",
        "outputId": "00803551-a171-4514-a5f5-05192a9a1013"
      },
      "source": [
        "model.fit(Xtrain, ytrain, batch_size=32, epochs=5, validation_data=(Xtest, ytest))"
      ],
      "execution_count": 71,
      "outputs": [
        {
          "output_type": "stream",
          "text": [
            "Epoch 1/5\n",
            "188/188 [==============================] - 20s 104ms/step - loss: 0.1074 - acc: 0.9612 - val_loss: 0.1598 - val_acc: 0.9489\n",
            "Epoch 2/5\n",
            "188/188 [==============================] - 19s 101ms/step - loss: 0.0839 - acc: 0.9705 - val_loss: 0.1667 - val_acc: 0.9448\n",
            "Epoch 3/5\n",
            "188/188 [==============================] - 19s 101ms/step - loss: 0.0715 - acc: 0.9735 - val_loss: 0.1866 - val_acc: 0.9383\n",
            "Epoch 4/5\n",
            "188/188 [==============================] - 19s 100ms/step - loss: 0.0365 - acc: 0.9887 - val_loss: 0.2104 - val_acc: 0.9310\n",
            "Epoch 5/5\n",
            "188/188 [==============================] - 19s 101ms/step - loss: 0.0313 - acc: 0.9905 - val_loss: 0.1770 - val_acc: 0.9562\n"
          ],
          "name": "stdout"
        },
        {
          "output_type": "execute_result",
          "data": {
            "text/plain": [
              "<keras.callbacks.History at 0x7efea63c4c50>"
            ]
          },
          "metadata": {},
          "execution_count": 71
        }
      ]
    }
  ]
}